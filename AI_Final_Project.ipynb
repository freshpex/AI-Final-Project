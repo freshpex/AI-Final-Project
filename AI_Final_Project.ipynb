{
  "cells": [
    {
      "cell_type": "markdown",
      "metadata": {
        "colab_type": "text",
        "id": "view-in-github"
      },
      "source": [
        "<a href=\"https://colab.research.google.com/github/freshpex/AI-Final-Project/blob/main/AI_Final_Project.ipynb\" target=\"_parent\"><img src=\"https://colab.research.google.com/assets/colab-badge.svg\" alt=\"Open In Colab\"/></a>"
      ]
    },
    {
      "cell_type": "code",
      "execution_count": null,
      "metadata": {
        "id": "yglbPb1C0ows"
      },
      "outputs": [],
      "source": [
        "import pandas as pd\n",
        "import numpy as np\n",
        "import matplotlib.pyplot as plt\n"
      ]
    },
    {
      "cell_type": "code",
      "execution_count": null,
      "metadata": {
        "id": "Ttaa4BO9dq-r"
      },
      "outputs": [],
      "source": [
        "from sklearn.preprocessing import MinMaxScaler\n",
        "import tensorflow as tf\n",
        "from tensorflow.keras.models import Sequential\n",
        "from tensorflow.keras.layers import Dense, LSTM, Dropout\n",
        "from sklearn.metrics import mean_squared_error\n"
      ]
    },
    {
      "cell_type": "code",
      "execution_count": null,
      "metadata": {
        "colab": {
          "base_uri": "https://localhost:8080/",
          "height": 237
        },
        "id": "cXiA7hr8qI8u",
        "outputId": "dddcda5d-9347-42b0-ff23-885fd38b7832"
      },
      "outputs": [],
      "source": [
        "# List of datasets files\n",
        "datasets = {\n",
        "    'Tesla': 'datasets/tesla.csv',\n",
        "    'Apple': 'datasets/apple.csv',\n",
        "    'LG': 'datasets/lgtelevision.csv',\n",
        "    'Netflix': 'datasets/netflix.csv',\n",
        "    'Google': 'datasets/google.csv'\n",
        "}\n",
        "\n",
        "# Combine datasets into a single dataframe\n",
        "combined_dfs = []\n",
        "\n",
        "for name, path in datasets.items():\n",
        "    df = pd.read_csv(path)\n",
        "    df['Date'] = pd.to_datetime(df['Date'])\n",
        "    # Ensure all dates are timezone-naive\n",
        "    df['Date'] = df['Date'].dt.tz_localize(None)\n",
        "    df.set_index('Date', inplace=True)\n",
        "    combined_dfs.append(df)\n",
        "\n",
        "combined_df = pd.concat(combined_dfs)\n",
        "\n",
        "# Sort by date\n",
        "combined_df.sort_index(inplace=True)\n",
        "\n",
        "combined_df.head(5)"
      ]
    },
    {
      "cell_type": "code",
      "execution_count": null,
      "metadata": {
        "colab": {
          "base_uri": "https://localhost:8080/"
        },
        "id": "ku_yVyH9cbto",
        "outputId": "2ba88cbc-c5ee-47df-cad4-0507e1489096"
      },
      "outputs": [],
      "source": [
        "combined_df.info()"
      ]
    },
    {
      "cell_type": "code",
      "execution_count": null,
      "metadata": {
        "colab": {
          "base_uri": "https://localhost:8080/",
          "height": 320
        },
        "id": "kHdcCiUNRk0i",
        "outputId": "7dcde66b-2a74-4fa9-d974-031e11e9c8d8"
      },
      "outputs": [],
      "source": [
        "combined_df.describe()"
      ]
    },
    {
      "cell_type": "code",
      "execution_count": null,
      "metadata": {
        "colab": {
          "base_uri": "https://localhost:8080/",
          "height": 349
        },
        "id": "fltEDnJLfEWy",
        "outputId": "618e0c29-b1b2-47c7-d4cc-e531b21b81d2"
      },
      "outputs": [],
      "source": [
        "# use pit to visualize stock prices over the time, so we can understand the trends\n",
        "plt.figure(figsize=(14, 7))\n",
        "plt.plot(combined_df['Close'])\n",
        "plt.title('Stock Prices Over Time')\n",
        "plt.xlabel('Date')\n",
        "plt.ylabel('Close Price')\n",
        "plt.show()"
      ]
    },
    {
      "cell_type": "markdown",
      "metadata": {
        "id": "9uq3DlDvf0Ou"
      },
      "source": [
        "**LSTM**"
      ]
    },
    {
      "cell_type": "code",
      "execution_count": null,
      "metadata": {
        "id": "rD0bANP2fXts"
      },
      "outputs": [],
      "source": [
        "# we want to Normalize the data to make convergence faster\n",
        "scaler = MinMaxScaler(feature_range=(0, 1))\n",
        "scaled_data = scaler.fit_transform(combined_df)"
      ]
    },
    {
      "cell_type": "markdown",
      "metadata": {
        "id": "mKshZwBQgKnk"
      },
      "source": [
        "**Training** **and** **Testing**"
      ]
    },
    {
      "cell_type": "code",
      "execution_count": null,
      "metadata": {
        "id": "aDdpmeG3gPIA"
      },
      "outputs": [],
      "source": [
        "# split the scaled datat into training sets, we are going to use 80 to 20%\n",
        "train_size = int(len(scaled_data) * 0.8)\n",
        "train_data, test_data = scaled_data[:train_size], scaled_data[train_size:]\n",
        "\n",
        "# we are using the inputs to predict the output based on the later days\n",
        "def create_dataset(data, time_step=1):\n",
        "    X = []\n",
        "    y = []\n",
        "    for i in range(len(data) - time_step - 1):\n",
        "        a = data[i:(i + time_step)]\n",
        "        X.append(a)\n",
        "        y.append(data[i + time_step, 3])\n",
        "    return np.array(X), np.array(y)\n",
        "\n",
        "time_step = 60\n",
        "X_train, y_train = create_dataset(train_data, time_step)\n",
        "X_test, y_test = create_dataset(test_data, time_step)\n",
        "\n",
        "# Reshapes the input\n",
        "X_train = X_train.reshape(X_train.shape[0], X_train.shape[1], X_train.shape[2])\n",
        "X_test = X_test.reshape(X_test.shape[0], X_test.shape[1], X_test.shape[2])\n",
        "\n"
      ]
    },
    {
      "cell_type": "markdown",
      "metadata": {
        "id": "bMXb4EZ0gckH"
      },
      "source": [
        "**Build and Train**"
      ]
    },
    {
      "cell_type": "code",
      "execution_count": null,
      "metadata": {
        "id": "BrDeLJ-PgNj5"
      },
      "outputs": [],
      "source": [
        "# Build the LSTM model\n",
        "model = Sequential()\n",
        "\n",
        "model.add(LSTM(100, return_sequences=True, input_shape=(time_step, X_train.shape[2])))\n",
        "model.add(Dropout(0.2))\n",
        "\n",
        "model.add(LSTM(100, return_sequences=True))\n",
        "model.add(Dropout(0.2))\n",
        "\n",
        "model.add(LSTM(100, return_sequences=False))\n",
        "model.add(Dropout(0.2))\n",
        "\n",
        "model.add(Dense(25))\n",
        "model.add(Dense(1))\n",
        "\n",
        "model.compile(optimizer='adam', loss='mean_squared_error')"
      ]
    },
    {
      "cell_type": "markdown",
      "metadata": {
        "id": "3osUia3cggDy"
      },
      "source": [
        "**Train Model**"
      ]
    },
    {
      "cell_type": "code",
      "execution_count": null,
      "metadata": {
        "colab": {
          "base_uri": "https://localhost:8080/"
        },
        "id": "S_FMBaAjgj7r",
        "outputId": "0398c62c-bfe3-427e-a04c-09df85f2ff32"
      },
      "outputs": [],
      "source": [
        "# Train the model\n",
        "hist = model.fit(X_train, y_train, batch_size=32, epochs=15, verbose=2)"
      ]
    },
    {
      "cell_type": "markdown",
      "metadata": {
        "id": "vUiEsmrikshW"
      },
      "source": [
        "**Plot the Loss**"
      ]
    },
    {
      "cell_type": "code",
      "execution_count": null,
      "metadata": {
        "colab": {
          "base_uri": "https://localhost:8080/",
          "height": 472
        },
        "id": "3WT5rNZvkr6Q",
        "outputId": "219aa5bf-baeb-4a5b-d4ad-cecb12492eab"
      },
      "outputs": [],
      "source": [
        "plt.plot(hist.history['loss'])\n",
        "plt.title('Training loss')\n",
        "plt.xlabel('Epoch')\n",
        "plt.ylabel('Loss')\n",
        "plt.legend(['train'], loc='upper left')\n",
        "plt.show()"
      ]
    },
    {
      "cell_type": "markdown",
      "metadata": {
        "id": "hO47EH_3gkfG"
      },
      "source": [
        "**Predictions**"
      ]
    },
    {
      "cell_type": "code",
      "execution_count": null,
      "metadata": {
        "colab": {
          "base_uri": "https://localhost:8080/"
        },
        "id": "UjKbXaqBgjuq",
        "outputId": "25d891b2-2b90-4d40-ff49-907d0df11587"
      },
      "outputs": [],
      "source": [
        "#train and test the model\n",
        "train_predict = model.predict(X_train)\n",
        "test_predict = model.predict(X_test)\n",
        "\n",
        "# since we scaled earlier we need to inverse and transform to get the actual stock prices\n",
        "train_predict = scaler.inverse_transform(np.concatenate([train_predict, np.zeros((train_predict.shape[0], scaled_data.shape[1] - 1))], axis=1))[:, 0]\n",
        "test_predict = scaler.inverse_transform(np.concatenate([test_predict, np.zeros((test_predict.shape[0], scaled_data.shape[1] - 1))], axis=1))[:, 0]\n",
        "\n"
      ]
    },
    {
      "cell_type": "markdown",
      "metadata": {
        "id": "z08WJb-xrits"
      },
      "source": [
        "**Plot Predictions**"
      ]
    },
    {
      "cell_type": "code",
      "execution_count": null,
      "metadata": {
        "colab": {
          "base_uri": "https://localhost:8080/",
          "height": 353
        },
        "id": "Yqi4ArLOriVY",
        "outputId": "d5f6b775-26e1-4128-cf2f-b96876a21b45"
      },
      "outputs": [],
      "source": [
        "# Shift train predictions for plotting\n",
        "train_predict_plot = np.empty_like(scaled_data[:, 3])\n",
        "train_predict_plot[:] = np.nan\n",
        "train_predict_plot[time_step:len(train_predict) + time_step] = train_predict\n",
        "\n",
        "# Shift test predictions for plotting\n",
        "test_predict_plot = np.empty_like(scaled_data[:, 3])\n",
        "test_predict_plot[:] = np.nan\n",
        "test_predict_plot[len(train_predict) + (time_step * 2) + 1:len(scaled_data) - 1] = test_predict\n",
        "\n",
        "# Plot baseline and predictions\n",
        "plt.figure(figsize=(14, 7))\n",
        "plt.plot(scaler.inverse_transform(scaled_data)[:, 3], label='Actual Stock Price')\n",
        "plt.plot(train_predict_plot, label='Train Prediction')\n",
        "plt.plot(test_predict_plot, label='Test Prediction')\n",
        "plt.title('Stock Price Prediction')\n",
        "plt.xlabel('Date')\n",
        "plt.ylabel('Stock Price')\n",
        "plt.legend()\n",
        "plt.show()"
      ]
    },
    {
      "cell_type": "markdown",
      "metadata": {
        "id": "RsLHwys2mCLf"
      },
      "source": [
        "**Test Model With a Different Dataset**"
      ]
    },
    {
      "cell_type": "code",
      "execution_count": null,
      "metadata": {
        "colab": {
          "base_uri": "https://localhost:8080/"
        },
        "id": "WkqEJ_xFmBwI",
        "outputId": "174047c3-e03c-43ab-f45b-ca97f6c8fa8b"
      },
      "outputs": [],
      "source": [
        "# Load a new dataset to test\n",
        "file = 'datasets/apple.csv'\n",
        "testData = pd.read_csv(file)\n",
        "testData[\"Date\"] = pd.to_datetime(testData[\"Date\"])\n",
        "testData['Date'] = testData['Date'].dt.tz_localize(None)\n",
        "testData.set_index('Date', inplace=True)\n",
        "testData = testData.dropna()\n",
        "\n",
        "# Normalize the dataset using the same scaler\n",
        "input_scaled = scaler.transform(testData.values)\n",
        "\n"
      ]
    },
    {
      "cell_type": "code",
      "execution_count": null,
      "metadata": {
        "id": "QG8RjZXptWqx"
      },
      "outputs": [],
      "source": [
        "# Initialize variables for testing\n",
        "x_test = []\n",
        "length = len(testData)\n",
        "\n",
        "# Create input sequences for the test model\n",
        "for i in range(time_step, length):\n",
        "    x_test.append(input_scaled[i-time_step:i])\n",
        "\n",
        "# Convert to numpy array and reshape\n",
        "x_test = np.array(x_test)\n",
        "x_test = np.reshape(x_test, (x_test.shape[0], x_test.shape[1], x_test.shape[2]))\n"
      ]
    },
    {
      "cell_type": "code",
      "execution_count": null,
      "metadata": {
        "colab": {
          "base_uri": "https://localhost:8080/"
        },
        "id": "XLuhRgaTtqow",
        "outputId": "3843fe59-99e6-4494-cd0e-9178f2784092"
      },
      "outputs": [],
      "source": [
        "# Make predictions\n",
        "y_pred = model.predict(x_test)\n",
        "\n",
        "# Inverse transform predictions\n",
        "predicted_price = scaler.inverse_transform(np.concatenate((np.zeros((y_pred.shape[0], scaled_data.shape[1]-1)), y_pred), axis=1))[:, -1]\n",
        "\n",
        "# Get the actual closing prices for comparison\n",
        "y_test = testData.iloc[time_step:, 3].values\n"
      ]
    },
    {
      "cell_type": "markdown",
      "metadata": {
        "id": "SXwAejLvgqqg"
      },
      "source": [
        "**Visualization**"
      ]
    },
    {
      "cell_type": "code",
      "execution_count": null,
      "metadata": {
        "colab": {
          "base_uri": "https://localhost:8080/",
          "height": 355
        },
        "id": "KiBWcff0oiD2",
        "outputId": "0b17a42f-4bab-475c-e875-dcda70caf385"
      },
      "outputs": [],
      "source": [
        "# Plot the results\n",
        "plt.figure(figsize=(14, 7))\n",
        "plt.plot(testData.index[time_step:], y_test, color='blue', label='Actual Stock Price')\n",
        "plt.plot(testData.index[time_step:], predicted_price, color='red', label='Predicted Stock Price')\n",
        "plt.title('Stock Price Prediction')\n",
        "plt.xlabel('Date')\n",
        "plt.ylabel('Stock Price')\n",
        "plt.legend()\n",
        "plt.show()"
      ]
    },
    {
      "cell_type": "markdown",
      "metadata": {
        "id": "E5AUUVgVlk6d"
      },
      "source": [
        "**Performance Metrics**"
      ]
    },
    {
      "cell_type": "code",
      "execution_count": null,
      "metadata": {
        "id": "2YUs2kGFcHpR"
      },
      "outputs": [],
      "source": [
        "# Calculate Mean Squared Error (MSE) and Root Mean Squared Error (RMSE)\n",
        "mse = mean_squared_error(y_test, predicted_price)\n",
        "rmse = np.sqrt(mse)\n",
        "\n",
        "# Print the performance metrics\n",
        "print(f\"Mean Squared Error (MSE): {mse}\")\n",
        "print(f\"Root Mean Squared Error (RMSE): {rmse}\")"
      ]
    }
  ],
  "metadata": {
    "colab": {
      "include_colab_link": true,
      "provenance": []
    },
    "kernelspec": {
      "display_name": "Python 3",
      "name": "python3"
    },
    "language_info": {
      "name": "python",
      "version": "3.12.3"
    }
  },
  "nbformat": 4,
  "nbformat_minor": 0
}
